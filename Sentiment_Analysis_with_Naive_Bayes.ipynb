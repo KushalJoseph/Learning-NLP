{
 "cells": [
  {
   "cell_type": "markdown",
   "id": "496ea89b",
   "metadata": {},
   "source": [
    "# Sentiment Analysis of tweets with Naive Bayes"
   ]
  },
  {
   "cell_type": "markdown",
   "id": "55439c65",
   "metadata": {},
   "source": [
    "## Imports and loading the dataset:"
   ]
  },
  {
   "cell_type": "code",
   "execution_count": 1,
   "id": "c0df0b6a",
   "metadata": {},
   "outputs": [],
   "source": [
    "import numpy as np\n",
    "import nltk\n",
    "from nltk.corpus import twitter_samples, stopwords\n",
    "from nltk.tokenize import TweetTokenizer\n",
    "\n",
    "import string\n",
    "import pandas as pd"
   ]
  },
  {
   "cell_type": "code",
   "execution_count": 2,
   "id": "1a716a8e",
   "metadata": {},
   "outputs": [],
   "source": [
    "# Download these if you haven't already\n",
    "# nltk.download('stopwords')\n",
    "# nltk.download('twitter_samples')"
   ]
  },
  {
   "cell_type": "code",
   "execution_count": 3,
   "id": "21162725",
   "metadata": {},
   "outputs": [],
   "source": [
    "positive_tweets = twitter_samples.strings('positive_tweets.json')\n",
    "negative_tweets = twitter_samples.strings('negative_tweets.json')\n",
    "\n",
    "train_pos = positive_tweets[:4000]\n",
    "test_pos  = positive_tweets[4000:]\n",
    "train_neg = negative_tweets[:4000]\n",
    "test_neg  = negative_tweets[4000:]\n",
    "\n",
    "X_train   = train_pos + train_neg\n",
    "y_train = np.append(np.ones((len(train_pos), 1)), np.zeros((len(train_neg), 1)), axis=0)\n",
    "\n",
    "X_test    = test_pos + test_neg\n",
    "y_test = np.append(np.ones((len(test_pos), 1)), np.zeros((len(test_neg), 1)), axis=0)"
   ]
  },
  {
   "cell_type": "code",
   "execution_count": 4,
   "id": "acd16db0",
   "metadata": {},
   "outputs": [
    {
     "name": "stdout",
     "output_type": "stream",
     "text": [
      "(8000, 1)\n",
      "(2000, 1)\n"
     ]
    }
   ],
   "source": [
    "print(y_train.shape)\n",
    "print(y_test.shape)"
   ]
  },
  {
   "cell_type": "markdown",
   "id": "aa64b741",
   "metadata": {},
   "source": [
    "## Preprocessing function"
   ]
  },
  {
   "cell_type": "code",
   "execution_count": 5,
   "id": "cac58916",
   "metadata": {},
   "outputs": [],
   "source": [
    "import re            # Regular Expressions\n",
    "import string\n",
    "\n",
    "from nltk.corpus import stopwords\n",
    "from nltk.stem import PorterStemmer\n",
    "from nltk.tokenize import TweetTokenizer\n",
    "english_stopwords = stopwords.words('english')\n",
    "stemmer = PorterStemmer()\n",
    "\n",
    "def preprocess_tweet(tweet):\n",
    "    \n",
    "    '''\n",
    "        Input: Tweet, a string\n",
    "        Output: A processed, tokenized (array) of words, after removing stopwords and stemming\n",
    "    '''\n",
    "    \n",
    "    # Re operations\n",
    "    tweet = re.sub(r'^RT[\\s]+', '', tweet)               # Remove retweet text \"RT\"\n",
    "    tweet = re.sub(r'https?:\\/\\/.*[\\r\\n]*', '', tweet)   # Remove https://, website links\n",
    "    tweet = re.sub(r'#', '', tweet)                      # Remove hashtags\n",
    "    \n",
    "    # Tokenize\n",
    "    tokenizer = TweetTokenizer(preserve_case = False, reduce_len = True, strip_handles = True)\n",
    "    tweet_tokens = tokenizer.tokenize(tweet)\n",
    "\n",
    "    # Remove Stopwords\n",
    "    cleaned_tweet = []\n",
    "    for token in tweet_tokens:\n",
    "        if token in english_stopwords or token in string.punctuation:\n",
    "            continue\n",
    "        else:\n",
    "            cleaned_tweet.append(token)\n",
    "        \n",
    "    # Stemming\n",
    "    stemmed_tweet = []\n",
    "\n",
    "    for token in cleaned_tweet:\n",
    "        stemmed_tweet.append(stemmer.stem(token))\n",
    "        \n",
    "    return stemmed_tweet"
   ]
  },
  {
   "cell_type": "code",
   "execution_count": 6,
   "id": "5c40ccbd",
   "metadata": {},
   "outputs": [
    {
     "name": "stdout",
     "output_type": "stream",
     "text": [
      "['hello', 'great', 'day', ':)', 'good', 'morn']\n"
     ]
    }
   ],
   "source": [
    "custom_tweet = \"RT @Twitter @chapagain Hello There! Have a great day. :) #good #morning http://chapagain.com.np\"\n",
    "\n",
    "# print cleaned tweet\n",
    "print(preprocess_tweet(custom_tweet))"
   ]
  },
  {
   "cell_type": "markdown",
   "id": "55283e99",
   "metadata": {},
   "source": [
    "## Build Class frequencies for each word"
   ]
  },
  {
   "cell_type": "code",
   "execution_count": 7,
   "id": "8a4860e5",
   "metadata": {},
   "outputs": [],
   "source": [
    "def build_frequencies(tweets, y_list):\n",
    "    \n",
    "    '''\n",
    "        Inputs: \n",
    "        Tweets: The entire list of tweets, each of which is a string\n",
    "        y_list: Labels for tweets\n",
    "        \n",
    "        Output:\n",
    "        The word frequency dictionary\n",
    "    \n",
    "    '''\n",
    "\n",
    "    # y: Sentiment label of each tweet (Actual labels)\n",
    "    y_list = np.squeeze(y_list).tolist()        # Squeezing to a list so that we can zip it.\n",
    "    \n",
    "    word_freqs = {}\n",
    "    for y, tweet in zip(y_list, tweets):\n",
    "        preprocessed_tweet = preprocess_tweet(tweet)\n",
    "        for word in preprocessed_tweet:\n",
    "            pair = (word, y)\n",
    "            if(word_freqs.get(pair) is None):\n",
    "                word_freqs[pair] = 1\n",
    "            else:\n",
    "                word_freqs[pair] += 1\n",
    "                \n",
    "    return word_freqs"
   ]
  },
  {
   "cell_type": "code",
   "execution_count": 8,
   "id": "ec8d1df7",
   "metadata": {},
   "outputs": [
    {
     "name": "stdout",
     "output_type": "stream",
     "text": [
      "{('happi', 1): 1, ('trick', 0): 1, ('sad', 0): 1, ('tire', 0): 2}\n"
     ]
    }
   ],
   "source": [
    "# Testing your function\n",
    "tweets = ['i am happy', 'i am tricked', 'i am sad', 'i am tired', 'i am tired']\n",
    "ys = [1, 0, 0, 0, 0]\n",
    "result = build_frequencies(tweets, ys)\n",
    "print(result)"
   ]
  },
  {
   "cell_type": "markdown",
   "id": "6965c2b0",
   "metadata": {},
   "source": [
    "# Training Naive Bayes\n",
    "\n",
    "Naive Bayes may be used for sentiment analysis, one of the benefits is it's short training and prediction times\n",
    "\n",
    "### Steps:\n",
    "1. Identify the number of classes. Here we have 2: Pos and Neg\n",
    "\n",
    "2. Create a probability for each class. \n",
    "                                        Prob(D_pos) = D_pos/D;\n",
    "                                        Prob(D_neg) = D_neg/D;\n",
    "   D_pos: total number of +ve tweets, D_neg: total number of -ve tweets, D: Total tweets = len(y_train)\n",
    "\n",
    "3. Calculate logprior, especially useful when the dataset is unbalanced: np.log(D_pos) - np.log(D_neg)\n",
    "\n",
    "4. - $freq_{pos}$ and $freq_{neg}$ are the frequencies of that specific word in the positive or negative class. In other words, the positive frequency of a word is the number of times the word is counted with the label of 1.\n",
    "   - $N_{pos}$ and $N_{neg}$ are the total number of positive and negative words for all documents (for all tweets), respectively.\n",
    "   - $V$ is the number of unique words in the entire set of documents, for all classes, whether positive or negative.\n",
    "   \n",
    "   $$ P(W_{pos}) = \\frac{freq_{pos} + 1}{N_{pos} + V}\\tag{4} $$\n",
    "   $$ P(W_{neg}) = \\frac{freq_{neg} + 1}{N_{neg} + V}\\tag{5} $$\n",
    "   \n",
    "5. Calculate loglikelihood for the WORD: \n",
    "   $$\\text{loglikelihood} = \\log \\left(\\frac{P(W_{pos})}{P(W_{neg})} \\right)\\tag{6}$$"
   ]
  },
  {
   "cell_type": "markdown",
   "id": "a9fd9148",
   "metadata": {},
   "source": [
    "First, we create the frequencies dictionary"
   ]
  },
  {
   "cell_type": "code",
   "execution_count": 9,
   "id": "6c2fc3db",
   "metadata": {},
   "outputs": [],
   "source": [
    "freqs = build_frequencies(X_train, y_train)"
   ]
  },
  {
   "cell_type": "code",
   "execution_count": 10,
   "id": "23ea326f",
   "metadata": {},
   "outputs": [],
   "source": [
    "def train_naive_bayes(X_train, y_train, freqs):\n",
    "    \n",
    "    '''\n",
    "        Input: X_train and y_train, the tweets (all strings) along with the real classification\n",
    "        freqs: The dict created by running build_frequencies on X_train\n",
    "        \n",
    "        Output:\n",
    "        Returns logprior and loglikelihood. This is the \"model\", using this we can predict the classification of any tweet, \n",
    "        or on the test set\n",
    "    \n",
    "    '''\n",
    "    \n",
    "    # Define our return values\n",
    "    loglikelihood = {}   # Dictionary storing loglikelihood of EACH WORD\n",
    "    logprior      = 0\n",
    "    \n",
    "    # V is the length of unique words found\n",
    "    vocab = set(pair[0] for pair in freqs)\n",
    "    V = len(vocab)\n",
    "    \n",
    "    N_pos = 0\n",
    "    N_neg = 0\n",
    "    \n",
    "    for pair in freqs.keys(): # A pair is (word, 1) or (word, 0) and its value is the number of times it appears in the data\n",
    "        if(pair[1] == 1):\n",
    "            N_pos += freqs.get(pair)\n",
    "        else:\n",
    "            N_neg += freqs.get(pair)\n",
    "            \n",
    "    # Documents (tweets)\n",
    "    D = len(y_train)\n",
    "    D_pos = len(list(filter(lambda x: x == 1, y_train)))\n",
    "    D_neg = len(list(filter(lambda x: x == 0, y_train)))   \n",
    "    \n",
    "    logprior = np.log(D_pos/D_neg)\n",
    "    \n",
    "    # Filling in loglikelihood for every word in the vocabulary\n",
    "    for word in vocab:\n",
    "        # Get the positive and negative frequency of the word\n",
    "        freq_pos = 0 if (freqs.get((word, 1)) is None) else freqs.get((word, 1))\n",
    "        freq_neg = 0 if (freqs.get((word, 0)) is None) else freqs.get((word, 0))\n",
    "\n",
    "        # Calculate the probability that each word is positive, and negative\n",
    "        probability_w_pos = (freq_pos + 1)/(N_pos + V)\n",
    "        probability_w_neg = (freq_neg + 1)/(N_neg + V)\n",
    "\n",
    "        # Calculate the log likelihood of the word and store it in the loglikelihood dictionary\n",
    "        loglikelihood[word] = np.log(probability_w_pos/probability_w_neg)\n",
    "    \n",
    "    return logprior, loglikelihood"
   ]
  },
  {
   "cell_type": "code",
   "execution_count": 11,
   "id": "e5d530e8",
   "metadata": {},
   "outputs": [
    {
     "name": "stdout",
     "output_type": "stream",
     "text": [
      "0.0\n",
      "9083\n"
     ]
    }
   ],
   "source": [
    "logprior, loglikelihood = train_naive_bayes(X_train, y_train, freqs)\n",
    "print(logprior) # Will be 0 here since D_pos = D_neg\n",
    "print(len(loglikelihood))"
   ]
  },
  {
   "cell_type": "markdown",
   "id": "7fbb7ffd",
   "metadata": {},
   "source": [
    "# Testing Naive Bayes\n",
    "\n",
    "Given a tweet; logprior; and loglikelihood for words in the vocabulary, calculate the prediction using the formula: (Note: both logprior and loglikelihood are the results from training Naive Bayes on the training set\n",
    "\n",
    "$$ p = logprior + \\sum_i^N (loglikelihood_i)$$"
   ]
  },
  {
   "cell_type": "markdown",
   "id": "bd7399f1",
   "metadata": {},
   "source": [
    "### On a single tweet:"
   ]
  },
  {
   "cell_type": "code",
   "execution_count": 12,
   "id": "58f7d8c1",
   "metadata": {},
   "outputs": [],
   "source": [
    "def predict_tweet_naive_bayes(tweet, logprior, loglikelihood):\n",
    "    \n",
    "    '''\n",
    "        Given the model (logprior, loglikelihood) and a single tweet (string), return the prediction value p.\n",
    "        Where, p > 0 implies positive sentiment and vice versa.\n",
    "        No need to preprocess, provide raw tweet, we call preprocess_tweet() from here\n",
    "    \n",
    "    '''\n",
    "    sum_loglikelihood = 0\n",
    "    \n",
    "    processed_tweet = preprocess_tweet(tweet)\n",
    "    \n",
    "    for word in processed_tweet:\n",
    "        if(word in loglikelihood.keys()):\n",
    "            sum_loglikelihood += loglikelihood[word]\n",
    "    \n",
    "    p = logprior + sum_loglikelihood\n",
    "    \n",
    "    return p"
   ]
  },
  {
   "cell_type": "code",
   "execution_count": 13,
   "id": "a4c6433f",
   "metadata": {},
   "outputs": [
    {
     "name": "stdout",
     "output_type": "stream",
     "text": [
      "The expected output is 9.574522506155166\n"
     ]
    }
   ],
   "source": [
    "my_tweet = 'I am happy because I am learning :)'\n",
    "p = predict_tweet_naive_bayes(my_tweet, logprior, loglikelihood)\n",
    "print('The expected output is', p)"
   ]
  },
  {
   "cell_type": "markdown",
   "id": "0ca4a272",
   "metadata": {},
   "source": [
    "### On the Test Dataset"
   ]
  },
  {
   "cell_type": "code",
   "execution_count": 14,
   "id": "2f86bd5f",
   "metadata": {},
   "outputs": [],
   "source": [
    "def test_set_naive_bayes(X_test, y_test, logprior, loglikelihood):\n",
    "        \n",
    "    '''\n",
    "        Return test set accuracy given the model trained (logprior, loglikelihood)\n",
    "    '''    \n",
    "    \n",
    "    y_hat = []\n",
    "    y_test = np.squeeze(y_test).tolist()\n",
    "    \n",
    "    for tweet in X_test:\n",
    "        p_tweet = predict_tweet_naive_bayes(tweet, logprior, loglikelihood)\n",
    "        \n",
    "        if(p_tweet > 0):\n",
    "            y_hat.append(1)\n",
    "        else:\n",
    "            y_hat.append(0)\n",
    "\n",
    "    error = (np.int8(y_hat != y_test)).sum()/len(y_test)\n",
    "\n",
    "    accuracy = 1 - error\n",
    "\n",
    "    return accuracy"
   ]
  },
  {
   "cell_type": "code",
   "execution_count": 16,
   "id": "7152ba5a",
   "metadata": {},
   "outputs": [
    {
     "name": "stdout",
     "output_type": "stream",
     "text": [
      "Naive Bayes accuracy on the test set = 0.9995\n"
     ]
    }
   ],
   "source": [
    "print(\"Naive Bayes accuracy on the test set = %0.4f\" %(test_set_naive_bayes(X_test, y_test, logprior, loglikelihood)))"
   ]
  }
 ],
 "metadata": {
  "kernelspec": {
   "display_name": "Python 3",
   "language": "python",
   "name": "python3"
  },
  "language_info": {
   "codemirror_mode": {
    "name": "ipython",
    "version": 3
   },
   "file_extension": ".py",
   "mimetype": "text/x-python",
   "name": "python",
   "nbconvert_exporter": "python",
   "pygments_lexer": "ipython3",
   "version": "3.7.10"
  }
 },
 "nbformat": 4,
 "nbformat_minor": 5
}
