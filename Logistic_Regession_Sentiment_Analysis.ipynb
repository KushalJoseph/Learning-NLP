{
 "cells": [
  {
   "cell_type": "markdown",
   "id": "4c310356",
   "metadata": {},
   "source": [
    "# Sentiment Analysis using Logistic Regression"
   ]
  },
  {
   "cell_type": "markdown",
   "id": "60470e55",
   "metadata": {},
   "source": [
    "## Imports and loading dataset"
   ]
  },
  {
   "cell_type": "code",
   "execution_count": 1,
   "id": "c3135952",
   "metadata": {},
   "outputs": [],
   "source": [
    "import nltk\n",
    "from nltk.corpus import twitter_samples\n",
    "import matplotlib.pyplot as plt\n",
    "import random\n",
    "import numpy as np"
   ]
  },
  {
   "cell_type": "code",
   "execution_count": 2,
   "id": "93157aba",
   "metadata": {},
   "outputs": [],
   "source": [
    "# Uncomment below to download the nltk twitter dataset\n",
    "# nltk.download('twitter_samples')"
   ]
  },
  {
   "cell_type": "code",
   "execution_count": 3,
   "id": "a9974722",
   "metadata": {},
   "outputs": [],
   "source": [
    "positive_tweets = twitter_samples.strings('positive_tweets.json')\n",
    "negative_tweets = twitter_samples.strings('negative_tweets.json')"
   ]
  },
  {
   "cell_type": "code",
   "execution_count": 4,
   "id": "30ae6383",
   "metadata": {},
   "outputs": [
    {
     "name": "stdout",
     "output_type": "stream",
     "text": [
      "<class 'list'>\n",
      "<class 'str'>\n"
     ]
    }
   ],
   "source": [
    "print(type(positive_tweets))\n",
    "print(type(positive_tweets[0]))"
   ]
  },
  {
   "cell_type": "code",
   "execution_count": 5,
   "id": "72a6643a",
   "metadata": {},
   "outputs": [
    {
     "name": "stdout",
     "output_type": "stream",
     "text": [
      "@f0ggstar @stuartthull work neighbour on motors. Asked why and he said hates the updates on search :( http://t.co/XvmTUikWln\n"
     ]
    }
   ],
   "source": [
    "print(negative_tweets[7])"
   ]
  },
  {
   "cell_type": "markdown",
   "id": "9405fff1",
   "metadata": {},
   "source": [
    "# Preprocessing"
   ]
  },
  {
   "cell_type": "markdown",
   "id": "46b892f1",
   "metadata": {},
   "source": [
    "Steps involved in preprocessing text data:\n",
    "\n",
    "1. Lowercasing all words\n",
    "2. Remove punctuations\n",
    "3. Tokenizing into words\n",
    "4. Remove stop words (After we have the tokenized words)\n",
    "5. Stemming to reduce size of words dictionary"
   ]
  },
  {
   "cell_type": "code",
   "execution_count": null,
   "id": "5778669c",
   "metadata": {},
   "outputs": [],
   "source": [
    "# Uncomment below to download stopwords\n",
    "# nltk.download('stopwords')"
   ]
  },
  {
   "cell_type": "code",
   "execution_count": 6,
   "id": "14c10ae3",
   "metadata": {},
   "outputs": [],
   "source": [
    "import re            # Regular Expressions\n",
    "import string\n",
    "\n",
    "from nltk.corpus import stopwords\n",
    "from nltk.stem import PorterStemmer\n",
    "from nltk.tokenize import TweetTokenizer"
   ]
  },
  {
   "cell_type": "markdown",
   "id": "0e14653c",
   "metadata": {},
   "source": [
    "### 1. Remove Hashtags and links inside the tweets"
   ]
  },
  {
   "cell_type": "code",
   "execution_count": 7,
   "id": "164c83d9",
   "metadata": {},
   "outputs": [
    {
     "name": "stdout",
     "output_type": "stream",
     "text": [
      "@ForkH Hi, may you like play my newest gamejam game, i would be very happy about it :) http://t.co/8J5voDDHcs\n"
     ]
    }
   ],
   "source": [
    "tweet = positive_tweets[311]\n",
    "print(tweet)"
   ]
  },
  {
   "cell_type": "code",
   "execution_count": 8,
   "id": "4c273563",
   "metadata": {},
   "outputs": [
    {
     "name": "stdout",
     "output_type": "stream",
     "text": [
      "@ForkH Hi, may you like play my newest gamejam game, i would be very happy about it :) \n"
     ]
    }
   ],
   "source": [
    "tweet = re.sub(r'^RT[\\s]+', '', tweet)                # Remove retweet text \"RT\"\n",
    "tweet = re.sub(r'https?:\\/\\/.*[\\r\\n]*', '', tweet)   # Remove https://, website links\n",
    "tweet = re.sub(r'#', '', tweet)                      # Remove hashtags\n",
    "print(tweet)"
   ]
  },
  {
   "cell_type": "markdown",
   "id": "45b4dfbd",
   "metadata": {},
   "source": [
    "### 2. Tokenize the string"
   ]
  },
  {
   "cell_type": "code",
   "execution_count": 9,
   "id": "2645f09d",
   "metadata": {},
   "outputs": [
    {
     "name": "stdout",
     "output_type": "stream",
     "text": [
      "@ForkH Hi, may you like play my newest gamejam game, i would be very happy about it :) \n",
      "['hi', ',', 'may', 'you', 'like', 'play', 'my', 'newest', 'gamejam', 'game', ',', 'i', 'would', 'be', 'very', 'happy', 'about', 'it', ':)']\n"
     ]
    }
   ],
   "source": [
    "print(tweet)\n",
    "# Use preserve_case = False to also lowercase all strings\n",
    "tokenizer = TweetTokenizer(preserve_case = False, reduce_len = True, strip_handles = True)\n",
    "tweet_tokens = tokenizer.tokenize(tweet)\n",
    "print(tweet_tokens)"
   ]
  },
  {
   "cell_type": "markdown",
   "id": "264c79c3",
   "metadata": {},
   "source": [
    "### 3. Remove stopwords"
   ]
  },
  {
   "cell_type": "code",
   "execution_count": 10,
   "id": "44708153",
   "metadata": {},
   "outputs": [
    {
     "name": "stdout",
     "output_type": "stream",
     "text": [
      "['i', 'me', 'my', 'myself', 'we', 'our', 'ours', 'ourselves', 'you', \"you're\", \"you've\", \"you'll\", \"you'd\", 'your', 'yours', 'yourself', 'yourselves', 'he', 'him', 'his', 'himself', 'she', \"she's\", 'her', 'hers', 'herself', 'it', \"it's\", 'its', 'itself', 'they', 'them', 'their', 'theirs', 'themselves', 'what', 'which', 'who', 'whom', 'this', 'that', \"that'll\", 'these', 'those', 'am', 'is', 'are', 'was', 'were', 'be', 'been', 'being', 'have', 'has', 'had', 'having', 'do', 'does', 'did', 'doing', 'a', 'an', 'the', 'and', 'but', 'if', 'or', 'because', 'as', 'until', 'while', 'of', 'at', 'by', 'for', 'with', 'about', 'against', 'between', 'into', 'through', 'during', 'before', 'after', 'above', 'below', 'to', 'from', 'up', 'down', 'in', 'out', 'on', 'off', 'over', 'under', 'again', 'further', 'then', 'once', 'here', 'there', 'when', 'where', 'why', 'how', 'all', 'any', 'both', 'each', 'few', 'more', 'most', 'other', 'some', 'such', 'no', 'nor', 'not', 'only', 'own', 'same', 'so', 'than', 'too', 'very', 's', 't', 'can', 'will', 'just', 'don', \"don't\", 'should', \"should've\", 'now', 'd', 'll', 'm', 'o', 're', 've', 'y', 'ain', 'aren', \"aren't\", 'couldn', \"couldn't\", 'didn', \"didn't\", 'doesn', \"doesn't\", 'hadn', \"hadn't\", 'hasn', \"hasn't\", 'haven', \"haven't\", 'isn', \"isn't\", 'ma', 'mightn', \"mightn't\", 'mustn', \"mustn't\", 'needn', \"needn't\", 'shan', \"shan't\", 'shouldn', \"shouldn't\", 'wasn', \"wasn't\", 'weren', \"weren't\", 'won', \"won't\", 'wouldn', \"wouldn't\"]\n",
      "\n",
      "\n",
      "!\"#$%&'()*+,-./:;<=>?@[\\]^_`{|}~\n"
     ]
    }
   ],
   "source": [
    "english_stopwords = stopwords.words('english')\n",
    "print(english_stopwords)\n",
    "print('\\n')\n",
    "print(string.punctuation)    # Access punctuations using string.punctuation"
   ]
  },
  {
   "cell_type": "code",
   "execution_count": 11,
   "id": "d5ade82f",
   "metadata": {},
   "outputs": [
    {
     "name": "stdout",
     "output_type": "stream",
     "text": [
      "['hi', ',', 'may', 'you', 'like', 'play', 'my', 'newest', 'gamejam', 'game', ',', 'i', 'would', 'be', 'very', 'happy', 'about', 'it', ':)']\n",
      "['hi', 'may', 'like', 'play', 'newest', 'gamejam', 'game', 'would', 'happy', ':)']\n"
     ]
    }
   ],
   "source": [
    "print(tweet_tokens)\n",
    "\n",
    "cleaned_tweet = []\n",
    "for token in tweet_tokens:\n",
    "    if token in english_stopwords or token in string.punctuation:\n",
    "        continue\n",
    "    else:\n",
    "        cleaned_tweet.append(token)\n",
    "\n",
    "print(cleaned_tweet)"
   ]
  },
  {
   "cell_type": "markdown",
   "id": "ea36a68d",
   "metadata": {},
   "source": [
    "### 4. Stemming\n",
    "Stemming means converting a word to its most general form: Happy, Happier, Happiest, all essentially convey same meaning, so we can stem them all to \"happi\", reducing the dictionary size"
   ]
  },
  {
   "cell_type": "code",
   "execution_count": 12,
   "id": "5c15c47c",
   "metadata": {},
   "outputs": [
    {
     "name": "stdout",
     "output_type": "stream",
     "text": [
      "['hi', 'may', 'like', 'play', 'newest', 'gamejam', 'game', 'would', 'happy', ':)']\n",
      "['hi', 'may', 'like', 'play', 'newest', 'gamejam', 'game', 'would', 'happi', ':)']\n"
     ]
    }
   ],
   "source": [
    "print(cleaned_tweet)\n",
    "\n",
    "stemmer = PorterStemmer()\n",
    "stemmed_tweet = []\n",
    "\n",
    "for token in cleaned_tweet:\n",
    "    stemmed_tweet.append(stemmer.stem(token))\n",
    "\n",
    "print(stemmed_tweet)"
   ]
  },
  {
   "cell_type": "markdown",
   "id": "c6b29b20",
   "metadata": {},
   "source": [
    "## Preprocessing Function\n",
    "Combining all the above steps into a single function"
   ]
  },
  {
   "cell_type": "code",
   "execution_count": 13,
   "id": "8d149833",
   "metadata": {},
   "outputs": [],
   "source": [
    "english_stopwords = stopwords.words('english')\n",
    "stemmer = PorterStemmer()\n",
    "\n",
    "def preprocess_tweet(tweet):\n",
    "    \n",
    "    '''\n",
    "        Input: Tweet, a string\n",
    "        Output: A processed, tokenized (array) of words, after removing stopwords and stemming\n",
    "    '''\n",
    "    \n",
    "    # Re operations\n",
    "    tweet = re.sub(r'^RT[\\s]+', '', tweet)               # Remove retweet text \"RT\"\n",
    "    tweet = re.sub(r'https?:\\/\\/.*[\\r\\n]*', '', tweet)   # Remove https://, website links\n",
    "    tweet = re.sub(r'#', '', tweet)                      # Remove hashtags\n",
    "    \n",
    "    # Tokenize\n",
    "    tokenizer = TweetTokenizer(preserve_case = False, reduce_len = True, strip_handles = True)\n",
    "    tweet_tokens = tokenizer.tokenize(tweet)\n",
    "\n",
    "    # Remove Stopwords\n",
    "    cleaned_tweet = []\n",
    "    for token in tweet_tokens:\n",
    "        if token in english_stopwords or token in string.punctuation:\n",
    "            continue\n",
    "        else:\n",
    "            cleaned_tweet.append(token)\n",
    "        \n",
    "    # Stemming\n",
    "    stemmed_tweet = []\n",
    "\n",
    "    for token in cleaned_tweet:\n",
    "        stemmed_tweet.append(stemmer.stem(token))\n",
    "        \n",
    "    return stemmed_tweet"
   ]
  },
  {
   "cell_type": "code",
   "execution_count": 17,
   "id": "61ce88be",
   "metadata": {},
   "outputs": [
    {
     "name": "stdout",
     "output_type": "stream",
     "text": [
      "Enjoy a cute baby panda! :) http://t.co/9m6RWHsQEr http://t.co/UO77pIgatL\n",
      "['enjoy', 'cute', 'babi', 'panda', ':)']\n",
      "\n",
      "\n",
      "@thenwchica thank you :) 🍰\n",
      "['thank', ':)', '🍰']\n",
      "\n",
      "\n",
      "See you on monday 2EMT!!! :)\n",
      "['see', 'monday', '2emt', ':)']\n",
      "\n",
      "\n"
     ]
    }
   ],
   "source": [
    "for i in range(3):\n",
    "    n = np.random.randint(0, 4999)\n",
    "    pos_or_neg = np.random.randint(0, 2)\n",
    "    \n",
    "    if(pos_or_neg):\n",
    "        print(positive_tweets[n])\n",
    "        print(preprocess_tweet(positive_tweets[n]))\n",
    "    else:\n",
    "        print(negative_tweets[n])\n",
    "        print(preprocess_tweet(negative_tweets[n]))\n",
    "    print('\\n')"
   ]
  },
  {
   "cell_type": "markdown",
   "id": "32ddf56a",
   "metadata": {},
   "source": [
    "# Building word frequencies"
   ]
  },
  {
   "cell_type": "markdown",
   "id": "dca851c0",
   "metadata": {},
   "source": [
    "Goal: Build a dictionary of words (unique) and then see how many times this word appears in positive tweets and in negative tweets."
   ]
  },
  {
   "cell_type": "code",
   "execution_count": 18,
   "id": "e1867c77",
   "metadata": {},
   "outputs": [
    {
     "name": "stdout",
     "output_type": "stream",
     "text": [
      "5000\n",
      "5000\n",
      "[1. 1. 1. ... 0. 0. 0.]\n"
     ]
    }
   ],
   "source": [
    "print(len(positive_tweets))\n",
    "print(len(negative_tweets))\n",
    "\n",
    "labels = np.append(np.ones(len(positive_tweets)), np.zeros(len(negative_tweets)))\n",
    "print(labels)"
   ]
  },
  {
   "cell_type": "code",
   "execution_count": 19,
   "id": "eec11a35",
   "metadata": {},
   "outputs": [],
   "source": [
    "def build_frequencies(tweets, y_list):\n",
    "    \n",
    "    '''\n",
    "        Inputs: \n",
    "        Tweets: The entire list of tweets, each of which is a string\n",
    "        y_list: Labels for tweets\n",
    "        \n",
    "        Output:\n",
    "        The word frequency dictionary\n",
    "    \n",
    "    '''\n",
    "\n",
    "    # y: Sentiment label of each tweet (Actual labels)\n",
    "    y_list = np.squeeze(y_list).tolist()        # Squeezing to a list so that we can zip it.\n",
    "    \n",
    "    word_freqs = {}\n",
    "    for y, tweet in zip(y_list, tweets):\n",
    "        preprocessed_tweet = preprocess_tweet(tweet)\n",
    "        for word in preprocessed_tweet:\n",
    "            pair = (word, y)\n",
    "            if(word_freqs.get(pair) is None):\n",
    "                word_freqs[pair] = 1\n",
    "            else:\n",
    "                word_freqs[pair] += 1\n",
    "                \n",
    "    return word_freqs"
   ]
  },
  {
   "cell_type": "code",
   "execution_count": 20,
   "id": "096bbbf9",
   "metadata": {},
   "outputs": [],
   "source": [
    "all_tweets = positive_tweets + negative_tweets\n",
    "freqs = build_frequencies(all_tweets, labels)"
   ]
  },
  {
   "cell_type": "markdown",
   "id": "c442f267",
   "metadata": {},
   "source": [
    "Now testing these on a few words:"
   ]
  },
  {
   "cell_type": "code",
   "execution_count": 21,
   "id": "35f8e3ea",
   "metadata": {},
   "outputs": [
    {
     "name": "stdout",
     "output_type": "stream",
     "text": [
      "Word is happi, positive frequencies: 211, negatives: 25.\n",
      "Word is sad, positive frequencies: 5, negatives: 123.\n",
      "Word is furiou, positive frequencies: 0, negatives: 0.\n",
      "Word is oh, positive frequencies: 53, negatives: 92.\n",
      "Word is no, positive frequencies: 0, negatives: 0.\n",
      "Word is well, positive frequencies: 81, negatives: 56.\n",
      "Word is magnific, positive frequencies: 2, negatives: 0.\n",
      "Word is power, positive frequencies: 7, negatives: 6.\n",
      "Word is beauti, positive frequencies: 50, negatives: 11.\n",
      "Word is hous, positive frequencies: 7, negatives: 16.\n",
      "Word is shit, positive frequencies: 13, negatives: 36.\n",
      "Word is :), positive frequencies: 3568, negatives: 2.\n",
      "Word is :(, positive frequencies: 1, negatives: 4571.\n"
     ]
    }
   ],
   "source": [
    "test_words = ['happy', 'sad', 'furious', 'oh', 'no', 'well', 'magnificent', 'power', 'beautiful', 'house', 'shit', ':)', ':(']\n",
    "\n",
    "for i in range(len(test_words)):\n",
    "    test_words[i] = stemmer.stem(test_words[i])\n",
    "\n",
    "for i in range(len(test_words)):\n",
    "    word = test_words[i]\n",
    "    positives = freqs.get((word, 1))\n",
    "    negatives = freqs.get((word, 0))\n",
    "    if(positives is None): positives = 0\n",
    "    if(negatives is None): negatives = 0\n",
    "    print(f\"Word is {word}, positive frequencies: {positives}, negatives: {negatives}.\")"
   ]
  },
  {
   "cell_type": "markdown",
   "id": "3df2b157",
   "metadata": {},
   "source": [
    "# Logistic Regression Model"
   ]
  },
  {
   "cell_type": "markdown",
   "id": "61936596",
   "metadata": {},
   "source": [
    "## 1. Create Training and Test sets"
   ]
  },
  {
   "cell_type": "code",
   "execution_count": 22,
   "id": "2d3dd8bb",
   "metadata": {},
   "outputs": [],
   "source": [
    "train_pos = positive_tweets[:4000]\n",
    "train_neg = negative_tweets[:4000]\n",
    "test_pos  = positive_tweets[4000:]\n",
    "test_neg  = negative_tweets[4000:]\n",
    "\n",
    "X_train = train_pos + train_neg\n",
    "X_test  = test_pos + test_neg"
   ]
  },
  {
   "cell_type": "code",
   "execution_count": 23,
   "id": "b12acbb2",
   "metadata": {},
   "outputs": [],
   "source": [
    "# It is important to make the shape: np.ones((len(train_pos), 1)), and axis = 0!\n",
    "y_train = np.append(np.ones((len(train_pos), 1)), np.zeros((len(train_neg), 1)), axis=0)\n",
    "y_test = np.append(np.ones((len(test_pos), 1)), np.zeros((len(test_neg), 1)), axis=0)"
   ]
  },
  {
   "cell_type": "code",
   "execution_count": 24,
   "id": "d4cc894e",
   "metadata": {},
   "outputs": [
    {
     "name": "stdout",
     "output_type": "stream",
     "text": [
      "train_y.shape = (8000, 1)\n",
      "test_y.shape = (2000, 1)\n"
     ]
    }
   ],
   "source": [
    "print(\"train_y.shape = \" + str(y_train.shape))  # Len = 4000 * 2 \n",
    "print(\"test_y.shape = \" + str(y_test.shape))    # Len = 1000 * 2"
   ]
  },
  {
   "cell_type": "markdown",
   "id": "ec587a50",
   "metadata": {},
   "source": [
    "Note that the shape is 8000, 1 and 2000, 1 meaning its a column vector, as expected, since the features matrix X has the feautures of all training examples as m rows stacked"
   ]
  },
  {
   "cell_type": "code",
   "execution_count": 25,
   "id": "8a6ecf06",
   "metadata": {},
   "outputs": [
    {
     "name": "stdout",
     "output_type": "stream",
     "text": [
      "type(freqs) = <class 'dict'>\n",
      "len(freqs) = 11338\n"
     ]
    }
   ],
   "source": [
    "freqs = build_frequencies(X_train, y_train)\n",
    "# Build frequencies of all words avaialable in all tweets, now represented as X_train\n",
    "print(\"type(freqs) = \" + str(type(freqs)))\n",
    "print(\"len(freqs) = \" + str(len(freqs.keys())))"
   ]
  },
  {
   "cell_type": "markdown",
   "id": "b8b441a1",
   "metadata": {},
   "source": [
    "## 2. Sigmoid"
   ]
  },
  {
   "cell_type": "code",
   "execution_count": 26,
   "id": "93055e04",
   "metadata": {},
   "outputs": [],
   "source": [
    "def sigmoid(z):\n",
    "    # Use np.exp() to exponentiate an entire array\n",
    "    return 1/(1 + np.exp(-z))"
   ]
  },
  {
   "cell_type": "code",
   "execution_count": 27,
   "id": "1535a2c8",
   "metadata": {},
   "outputs": [
    {
     "name": "stdout",
     "output_type": "stream",
     "text": [
      "9.210340371976294 9.210340371976182 0.0010005003335835344\n"
     ]
    }
   ],
   "source": [
    "# verify that when the model predicts close to 1, but the actual label is 0, the loss is a large positive value\n",
    "a1 = -1 * (1 - 0) * np.log(1 - 0.9999) # loss is about 9.2\n",
    "\n",
    "# verify that when the model predicts close to 0 but the actual label is 1, the loss is a large positive value\n",
    "a2 = -1 * np.log(0.0001) # loss is about 9.2\n",
    "\n",
    "# verify that when the model predicts close to 1 and the actual label is 1, the loss is a small positive value\n",
    "a3 = -1 * np.log(0.999) # loss is about 9.2\n",
    "\n",
    "print(a1, a2, a3)\n",
    "\n",
    "# What we Predict is the value INSIDE the log"
   ]
  },
  {
   "cell_type": "markdown",
   "id": "8c1c5f60",
   "metadata": {},
   "source": [
    "## 3. Gradient Descent function"
   ]
  },
  {
   "cell_type": "code",
   "execution_count": 28,
   "id": "d1ee3830",
   "metadata": {},
   "outputs": [],
   "source": [
    "def gradient_descent(X, y, theta, alpha, num_iterations):\n",
    "    \n",
    "    '''\n",
    "        Shapes:\n",
    "        X      : m by 3, 3 columns for each training example. First column is 1, second column is sigma(pos), third sigma(neg)\n",
    "        y      : m by 1, actual labels\n",
    "        theta  : 3 by 1.  \n",
    "        \n",
    "        Outputs:\n",
    "        J      : The cost function value after num_iterations\n",
    "        theta  : The best model produced\n",
    "    \n",
    "    '''\n",
    "    m = len(X) # Number of training examples: Each row represents one training example\n",
    "    \n",
    "    for i in range(0, num_iterations):\n",
    "        z = np.dot(X, theta)\n",
    "        \n",
    "        h = sigmoid(z)\n",
    "        \n",
    "        J = (-1/m) * (np.dot(y.transpose(), np.log(h)) + np.dot((1 - y).transpose(), np.log(1 - h)))\n",
    "        \n",
    "        theta = theta - (alpha/m) * np.dot(X.transpose(), (h - y))\n",
    "        \n",
    "    J = float(J)\n",
    "    \n",
    "    return J, theta"
   ]
  },
  {
   "cell_type": "code",
   "execution_count": 29,
   "id": "2886571c",
   "metadata": {},
   "outputs": [
    {
     "name": "stdout",
     "output_type": "stream",
     "text": [
      "[[1.00000000e+00 8.34044009e+02 1.44064899e+03]\n",
      " [1.00000000e+00 2.28749635e-01 6.04665145e+02]\n",
      " [1.00000000e+00 2.93511782e+02 1.84677190e+02]\n",
      " [1.00000000e+00 3.72520423e+02 6.91121454e+02]\n",
      " [1.00000000e+00 7.93534948e+02 1.07763347e+03]\n",
      " [1.00000000e+00 8.38389029e+02 1.37043900e+03]\n",
      " [1.00000000e+00 4.08904499e+02 1.75623487e+03]\n",
      " [1.00000000e+00 5.47751864e+01 1.34093502e+03]\n",
      " [1.00000000e+00 8.34609605e+02 1.11737966e+03]\n",
      " [1.00000000e+00 2.80773877e+02 3.96202978e+02]]\n",
      "[[1.]\n",
      " [1.]\n",
      " [0.]\n",
      " [1.]\n",
      " [1.]\n",
      " [1.]\n",
      " [0.]\n",
      " [0.]\n",
      " [0.]\n",
      " [1.]]\n"
     ]
    }
   ],
   "source": [
    "# Testing Gradient descent\n",
    "np.random.seed(1)\n",
    "tempX = np.append(np.ones((10, 1)), np.random.rand(10, 2) * 2000, axis=1)\n",
    "tempY = (np.random.rand(10, 1) > 0.35).astype(float)\n",
    "\n",
    "print(tempX)\n",
    "print(tempY)"
   ]
  },
  {
   "cell_type": "code",
   "execution_count": 30,
   "id": "9bb2c902",
   "metadata": {},
   "outputs": [
    {
     "name": "stdout",
     "output_type": "stream",
     "text": [
      "The cost after training is 0.67094970.\n",
      "The resulting vector of weights is [4.1e-07, 0.00035658, 7.309e-05]\n"
     ]
    }
   ],
   "source": [
    "tempJ, tempTheta = gradient_descent(tempX, tempY, np.zeros((3, 1)), 1e-8, 700)\n",
    "print(f\"The cost after training is {tempJ:.8f}.\")\n",
    "print(f\"The resulting vector of weights is {[round(t, 8) for t in np.squeeze(tempTheta)]}\")"
   ]
  },
  {
   "cell_type": "markdown",
   "id": "fd6d6e8e",
   "metadata": {},
   "source": [
    "## 4. Creating and extracting features from the text"
   ]
  },
  {
   "cell_type": "markdown",
   "id": "8dfddd8d",
   "metadata": {},
   "source": [
    "For each tweet (training example), we need to make a 3x1 vector : [1, No. of positive words, No. of negative words]"
   ]
  },
  {
   "cell_type": "code",
   "execution_count": 31,
   "id": "e5e6e235",
   "metadata": {},
   "outputs": [],
   "source": [
    "# Extracts features from ONE tweet, and also hence processes it\n",
    "def extract_features(tweet, freqs):\n",
    "    \n",
    "    '''\n",
    "        Inputs:\n",
    "        Tweet, a string (SINGLE tweet) (Not processed, just a string, we will process it from inside here)\n",
    "        Freqs, the dictionary produced by calling build_frequencies()\n",
    "        \n",
    "        Output:\n",
    "        x, the features for the given tweet, of the form [1, pos_counts, neg_counts]\n",
    "    \n",
    "    '''\n",
    "\n",
    "    # Return x, the feature vector for a tweet\n",
    "    tweet_processed = preprocess_tweet(tweet)\n",
    "    \n",
    "    x = np.zeros((1, 3))\n",
    "    x[0, 0] = 1\n",
    "    \n",
    "    for word in tweet_processed:\n",
    "        pos_counts = freqs.get((word, 1))\n",
    "        if(pos_counts is None): pos_counts = 0\n",
    "        x[0, 1] += pos_counts\n",
    "        \n",
    "        # increment the word count for the negative label 0\n",
    "        neg_counts = freqs.get((word, 0))\n",
    "        if(neg_counts is None): neg_counts = 0\n",
    "        x[0, 2] += neg_counts\n",
    "    \n",
    "    assert(x.shape == (1, 3))\n",
    "    return x"
   ]
  },
  {
   "cell_type": "code",
   "execution_count": 33,
   "id": "10e848bb",
   "metadata": {},
   "outputs": [
    {
     "name": "stdout",
     "output_type": "stream",
     "text": [
      "[[1.00e+00 3.02e+03 6.10e+01]]\n"
     ]
    }
   ],
   "source": [
    "temp1 = extract_features(X_train[0], freqs)\n",
    "print(temp1)"
   ]
  },
  {
   "cell_type": "code",
   "execution_count": 35,
   "id": "4a8ff0f6",
   "metadata": {},
   "outputs": [
    {
     "name": "stdout",
     "output_type": "stream",
     "text": [
      "[[1.000e+00 1.340e+02 3.917e+03]]\n"
     ]
    }
   ],
   "source": [
    "temp2 = extract_features('Hello please extract features from this string :(', freqs)\n",
    "print(temp2)"
   ]
  },
  {
   "cell_type": "markdown",
   "id": "02028075",
   "metadata": {},
   "source": [
    "## 5. Training the model on Training set\n",
    "Todo: Stack the feature vectors for all training examples. This creates X\n",
    "Call gradient descent on X, using y, to create an optimal theta"
   ]
  },
  {
   "cell_type": "code",
   "execution_count": 37,
   "id": "7c867eac",
   "metadata": {},
   "outputs": [],
   "source": [
    "# collect the features 'x' and stack them into a matrix 'X'\n",
    "X = np.zeros((len(X_train), 3))\n",
    "for i in range(len(X_train)):\n",
    "    X[i, :]= extract_features(X_train[i], freqs)\n",
    "Y = y_train"
   ]
  },
  {
   "cell_type": "code",
   "execution_count": 38,
   "id": "9b886705",
   "metadata": {},
   "outputs": [],
   "source": [
    "J, theta = gradient_descent(X, Y, np.zeros((3, 1)), 1e-9, 1500)"
   ]
  },
  {
   "cell_type": "code",
   "execution_count": 39,
   "id": "b132d37d",
   "metadata": {},
   "outputs": [
    {
     "name": "stdout",
     "output_type": "stream",
     "text": [
      "The cost after training is 0.24215666.\n",
      "The resulting vector of weights is [7e-08, 0.00052391, -0.00055517]\n"
     ]
    }
   ],
   "source": [
    "print(f\"The cost after training is {J:.8f}.\")\n",
    "print(f\"The resulting vector of weights is {[round(t, 8) for t in np.squeeze(theta)]}\")"
   ]
  },
  {
   "cell_type": "code",
   "execution_count": 40,
   "id": "3128061e",
   "metadata": {},
   "outputs": [
    {
     "name": "stdout",
     "output_type": "stream",
     "text": [
      "[[ 7.25196582e-08]\n",
      " [ 5.23910559e-04]\n",
      " [-5.55170175e-04]]\n"
     ]
    }
   ],
   "source": [
    "print(theta)"
   ]
  },
  {
   "cell_type": "markdown",
   "id": "18d91bf4",
   "metadata": {},
   "source": [
    "## 6. Testing the model on Test set"
   ]
  },
  {
   "cell_type": "code",
   "execution_count": 41,
   "id": "3f187385",
   "metadata": {},
   "outputs": [],
   "source": [
    "# Given the Tweet, Freqs table and the 3-numbered-model theta, predict if a tweet is postive or negative\n",
    "def predict_tweet_sentiment(tweet, freqs, theta):\n",
    "    \n",
    "    '''\n",
    "        Input: A tweet, (string, not processed)\n",
    "        Freqs: The dict obtained from calling build_frequencies()\n",
    "        Theta: The model created by training on the training set\n",
    "    \n",
    "    '''\n",
    "    \n",
    "    X = extract_features(tweet, freqs) # NOTE: Preprocessing is already being done in the extract_features function\n",
    "    \n",
    "    y_pred = sigmoid(np.dot(X, theta))\n",
    "    \n",
    "    return y_pred"
   ]
  },
  {
   "cell_type": "code",
   "execution_count": 42,
   "id": "94477a17",
   "metadata": {},
   "outputs": [],
   "source": [
    "# Testing on Test-Dataset:\n",
    "def test_set_logistic_regression(X_test, y_test, freqs, theta):\n",
    "    \n",
    "    '''\n",
    "        Input:\n",
    "        X_test and y_test: X_test includes the test set tweets, not processed\n",
    "        freqs and theta\n",
    "        \n",
    "        Output:\n",
    "        An accuracy vector comparing our predictions, y_pred, to actual values, y_test\n",
    "    \n",
    "    '''\n",
    "\n",
    "    y_pred = []\n",
    "    for tweet in X_test:\n",
    "        y_pred_cur = predict_tweet_sentiment(tweet, freqs, theta)\n",
    "        if(y_pred_cur > 0.5):\n",
    "            y_pred.append(1)\n",
    "        else:\n",
    "            y_pred.append(0)\n",
    "    \n",
    "    accuracy_vector = (y_pred == np.squeeze(y_test)).sum()/len(X_test)\n",
    "    return accuracy_vector"
   ]
  },
  {
   "cell_type": "code",
   "execution_count": 43,
   "id": "74979684",
   "metadata": {},
   "outputs": [
    {
     "name": "stdout",
     "output_type": "stream",
     "text": [
      "Logistic regression model's accuracy = 0.9950\n"
     ]
    }
   ],
   "source": [
    "test_accuracy = test_set_logistic_regression(X_test, y_test, freqs, theta)\n",
    "print(f\"Logistic regression model's accuracy = {test_accuracy:.4f}\")"
   ]
  },
  {
   "cell_type": "markdown",
   "id": "7938b213",
   "metadata": {},
   "source": [
    "### Prediction on any sample tweet"
   ]
  },
  {
   "cell_type": "code",
   "execution_count": 44,
   "id": "5a66ae99",
   "metadata": {},
   "outputs": [
    {
     "name": "stdout",
     "output_type": "stream",
     "text": [
      "Enter your tweet...Hello :)\n",
      "Positive tweet\n"
     ]
    }
   ],
   "source": [
    "tweet = str(input(\"Enter your tweet...\"))\n",
    "\n",
    "prediction = predict_tweet_sentiment(tweet, freqs, theta)\n",
    "if(prediction > 0.5):\n",
    "    print(\"Positive tweet\")\n",
    "else:\n",
    "    print(\"Negative tweet\")"
   ]
  }
 ],
 "metadata": {
  "kernelspec": {
   "display_name": "Python 3",
   "language": "python",
   "name": "python3"
  },
  "language_info": {
   "codemirror_mode": {
    "name": "ipython",
    "version": 3
   },
   "file_extension": ".py",
   "mimetype": "text/x-python",
   "name": "python",
   "nbconvert_exporter": "python",
   "pygments_lexer": "ipython3",
   "version": "3.7.10"
  }
 },
 "nbformat": 4,
 "nbformat_minor": 5
}
