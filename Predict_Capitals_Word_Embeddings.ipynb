{
 "cells": [
  {
   "cell_type": "markdown",
   "metadata": {},
   "source": [
    "# Predicting Country Capitals using Word Embeddings"
   ]
  },
  {
   "cell_type": "markdown",
   "metadata": {},
   "source": [
    "## Imports and Dataset "
   ]
  },
  {
   "cell_type": "code",
   "execution_count": 1,
   "metadata": {},
   "outputs": [],
   "source": [
    "import numpy as np\n",
    "import pandas as pd\n",
    "import matplotlib.pyplot as plt\n",
    "import pickle"
   ]
  },
  {
   "cell_type": "code",
   "execution_count": 2,
   "metadata": {},
   "outputs": [
    {
     "data": {
      "text/html": [
       "<div>\n",
       "<style scoped>\n",
       "    .dataframe tbody tr th:only-of-type {\n",
       "        vertical-align: middle;\n",
       "    }\n",
       "\n",
       "    .dataframe tbody tr th {\n",
       "        vertical-align: top;\n",
       "    }\n",
       "\n",
       "    .dataframe thead th {\n",
       "        text-align: right;\n",
       "    }\n",
       "</style>\n",
       "<table border=\"1\" class=\"dataframe\">\n",
       "  <thead>\n",
       "    <tr style=\"text-align: right;\">\n",
       "      <th></th>\n",
       "      <th>city1</th>\n",
       "      <th>country1</th>\n",
       "      <th>city2</th>\n",
       "      <th>country2</th>\n",
       "    </tr>\n",
       "  </thead>\n",
       "  <tbody>\n",
       "    <tr>\n",
       "      <th>0</th>\n",
       "      <td>Athens</td>\n",
       "      <td>Greece</td>\n",
       "      <td>Bangkok</td>\n",
       "      <td>Thailand</td>\n",
       "    </tr>\n",
       "    <tr>\n",
       "      <th>1</th>\n",
       "      <td>Athens</td>\n",
       "      <td>Greece</td>\n",
       "      <td>Beijing</td>\n",
       "      <td>China</td>\n",
       "    </tr>\n",
       "    <tr>\n",
       "      <th>2</th>\n",
       "      <td>Athens</td>\n",
       "      <td>Greece</td>\n",
       "      <td>Berlin</td>\n",
       "      <td>Germany</td>\n",
       "    </tr>\n",
       "    <tr>\n",
       "      <th>3</th>\n",
       "      <td>Athens</td>\n",
       "      <td>Greece</td>\n",
       "      <td>Bern</td>\n",
       "      <td>Switzerland</td>\n",
       "    </tr>\n",
       "    <tr>\n",
       "      <th>4</th>\n",
       "      <td>Athens</td>\n",
       "      <td>Greece</td>\n",
       "      <td>Cairo</td>\n",
       "      <td>Egypt</td>\n",
       "    </tr>\n",
       "  </tbody>\n",
       "</table>\n",
       "</div>"
      ],
      "text/plain": [
       "    city1 country1    city2     country2\n",
       "0  Athens   Greece  Bangkok     Thailand\n",
       "1  Athens   Greece  Beijing        China\n",
       "2  Athens   Greece   Berlin      Germany\n",
       "3  Athens   Greece     Bern  Switzerland\n",
       "4  Athens   Greece    Cairo        Egypt"
      ]
     },
     "execution_count": 2,
     "metadata": {},
     "output_type": "execute_result"
    }
   ],
   "source": [
    "data = pd.read_csv('capitals.txt', delimiter=' ')\n",
    "# This text file doesn't already contain the column titles\n",
    "data.columns = ['city1', 'country1', 'city2', 'country2']\n",
    "data.head(5)"
   ]
  },
  {
   "cell_type": "code",
   "execution_count": 3,
   "metadata": {},
   "outputs": [
    {
     "name": "stdout",
     "output_type": "stream",
     "text": [
      "243\n"
     ]
    }
   ],
   "source": [
    "word_embeddings = pickle.load(open(\"word_embeddings_subset.p\", \"rb\"))\n",
    "print(len(word_embeddings))"
   ]
  },
  {
   "cell_type": "code",
   "execution_count": 4,
   "metadata": {},
   "outputs": [
    {
     "name": "stdout",
     "output_type": "stream",
     "text": [
      "(300,)\n"
     ]
    }
   ],
   "source": [
    "print(word_embeddings['France'].shape)"
   ]
  },
  {
   "cell_type": "markdown",
   "metadata": {},
   "source": [
    "In this notebook, we try to predict analogies, here using the analogy of city-country for a pair, given a city, find its country with the help of the word_embeddings data."
   ]
  },
  {
   "cell_type": "code",
   "execution_count": 5,
   "metadata": {},
   "outputs": [],
   "source": [
    "def cosine_similarity(A, B):\n",
    "    '''\n",
    "        Return cosine similarity between np arrays A, B.\n",
    "        We know A.B = |A||B|cos(A, B); \n",
    "        So, cos(A, B) = (A.B)/|A||B|, where |A| means norm(A)\n",
    "    '''\n",
    "    \n",
    "    return (np.dot(A, B)/(np.linalg.norm(A) * np.linalg.norm(B)))"
   ]
  },
  {
   "cell_type": "code",
   "execution_count": 6,
   "metadata": {},
   "outputs": [
    {
     "name": "stdout",
     "output_type": "stream",
     "text": [
      "0.53546137\n"
     ]
    }
   ],
   "source": [
    "print(cosine_similarity(word_embeddings['happy'], word_embeddings['sad']))"
   ]
  },
  {
   "cell_type": "code",
   "execution_count": 7,
   "metadata": {},
   "outputs": [],
   "source": [
    "def euclidean_distance(A, B):\n",
    "    return np.sqrt(np.sum((A - B) * (A - B), axis=0))"
   ]
  },
  {
   "cell_type": "code",
   "execution_count": 8,
   "metadata": {},
   "outputs": [
    {
     "name": "stdout",
     "output_type": "stream",
     "text": [
      "2.4796925\n"
     ]
    }
   ],
   "source": [
    "print(euclidean_distance(word_embeddings['king'], word_embeddings['queen']))"
   ]
  },
  {
   "cell_type": "markdown",
   "metadata": {},
   "source": [
    "### Given city1, country1 and city2, find country2"
   ]
  },
  {
   "cell_type": "code",
   "execution_count": 9,
   "metadata": {},
   "outputs": [],
   "source": [
    "def get_country(city1, country1, city2, word_embeddings):\n",
    "    \n",
    "    city1_emb    = word_embeddings[city1]\n",
    "    country1_emb = word_embeddings[country1]\n",
    "    city2_emb    = word_embeddings[city2]\n",
    "    \n",
    "    '''\n",
    "        Country1 - City1 ~ Country2 - City2, where each term is the vector for the same.\n",
    "        (Note: We can also multiply -1 obs, but then we get the vector for -Country2, so it's better this way itself)\n",
    "        So,\n",
    "        Country1 - City1 + City2 ~ Country2\n",
    "        Let v = Country1 - City1 + City2, then from our data, find the vector that is closest to v. \n",
    "        This should be the best guess for Country2\n",
    "    \n",
    "    '''\n",
    "    v = country1_emb - city1_emb + city2_emb\n",
    "    \n",
    "    best_similarity = -1\n",
    "    country = ''\n",
    "    \n",
    "    for word in word_embeddings.keys():\n",
    "        \n",
    "        if(word == city1 or word == country1 or word == city2):\n",
    "            continue\n",
    "            \n",
    "        word_emb = word_embeddings[word]\n",
    "        similarity = cosine_similarity(word_emb, v)\n",
    "        \n",
    "        if(similarity > best_similarity): # Cosine similarity: Higher, the better (more similar)\n",
    "            best_similarity = similarity\n",
    "            country = (word, similarity)\n",
    "        \n",
    "    return country"
   ]
  },
  {
   "cell_type": "code",
   "execution_count": 10,
   "metadata": {},
   "outputs": [
    {
     "name": "stdout",
     "output_type": "stream",
     "text": [
      "('France', 0.6609893)\n"
     ]
    }
   ],
   "source": [
    "print(get_country('Athens', 'Greece', 'Paris', word_embeddings))"
   ]
  },
  {
   "cell_type": "markdown",
   "metadata": {},
   "source": [
    "## Find the model's accuracy"
   ]
  },
  {
   "cell_type": "code",
   "execution_count": 11,
   "metadata": {},
   "outputs": [],
   "source": [
    "def model_accuracy(word_embeddings, data):\n",
    "    '''\n",
    "        Input:\n",
    "        word_embeddings: dictionary; dict[word] = its embedding Vector\n",
    "        data: a pandas dataframe containing all the country and capital city pairs\n",
    "\n",
    "        Output:\n",
    "        accuracy: the accuracy of the model\n",
    "        \n",
    "    '''\n",
    "    \n",
    "    correct_predictions = 0\n",
    "    \n",
    "    for i, row in data.iterrows():\n",
    "        city1, country1, city2, country2 = row[0], row[1], row[2], row[3]\n",
    "        \n",
    "        predicted_country, _ = get_country(city1, country1, city2, word_embeddings)\n",
    "        \n",
    "        if(predicted_country == country2):\n",
    "            correct_predictions += 1\n",
    "    \n",
    "    accuracy = correct_predictions/len(data)\n",
    "    return accuracy"
   ]
  },
  {
   "cell_type": "code",
   "execution_count": 12,
   "metadata": {},
   "outputs": [
    {
     "name": "stdout",
     "output_type": "stream",
     "text": [
      "Accuracy is 0.92\n"
     ]
    }
   ],
   "source": [
    "accuracy = model_accuracy(word_embeddings, data)\n",
    "print(f\"Accuracy is {accuracy:.2f}\")"
   ]
  }
 ],
 "metadata": {
  "kernelspec": {
   "display_name": "Python 3",
   "language": "python",
   "name": "python3"
  },
  "language_info": {
   "codemirror_mode": {
    "name": "ipython",
    "version": 3
   },
   "file_extension": ".py",
   "mimetype": "text/x-python",
   "name": "python",
   "nbconvert_exporter": "python",
   "pygments_lexer": "ipython3",
   "version": "3.8.5"
  }
 },
 "nbformat": 4,
 "nbformat_minor": 4
}
